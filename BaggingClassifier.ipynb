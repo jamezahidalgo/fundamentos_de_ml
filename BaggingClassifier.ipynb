{
  "nbformat": 4,
  "nbformat_minor": 0,
  "metadata": {
    "colab": {
      "name": "BaggingClassifier.ipynb",
      "provenance": [],
      "collapsed_sections": []
    },
    "kernelspec": {
      "name": "python3",
      "display_name": "Python 3"
    },
    "language_info": {
      "name": "python"
    }
  },
  "cells": [
    {
      "cell_type": "markdown",
      "metadata": {
        "id": "50GnMdoXRKB2"
      },
      "source": [
        "# Ensamblado de algoritmos\n",
        "\n",
        "Es una técnica utilizada habitualmente en escenarios supervisados para mejorar el resultado de una predicción, combinando de alguna forma varios modelos. Los métodos más comunes son:\n",
        "\n",
        "+ Boosting\n",
        "+ Bootstrap aggregation (también llamado Bagging)\n",
        "+ Bucket of models\n",
        "+ Stacking.\n",
        "+ Bayes optimal classifier\n",
        "+ Bayesian parameter averaging\n",
        "+ Bayesian model combination"
      ]
    },
    {
      "cell_type": "markdown",
      "metadata": {
        "id": "fmNFuPamQpJM"
      },
      "source": [
        "# Bagging Classifier\n",
        "\n",
        "Consiste en entrenar los diferentes modelos con subconjuntos del conjunto de entrenamiento, dando a cada resultado obtenido un voto con el mismo peso. Por defecto, las muestras escogidas para cada aprendiz son escogidas con reemplazo (lo que significa que una muestra dada puede ser escogida más de una vez en cada bloque de entrenamiento aleatorio). Si la selección se realiza sin reemplazo, el método se denomina pasting.\n",
        "\n",
        "El ejemplo más clásico de bagging es Random Forest\n",
        "\n",
        "Scikit-learn implementa esta funcionalidad en las clases sklearn.ensemble.BaggingRegressor y sklearn.ensemble.BaggingClassifier."
      ]
    },
    {
      "cell_type": "code",
      "metadata": {
        "id": "iaIwiml0J_wx"
      },
      "source": [
        "import pandas as pd\n",
        "\n",
        "from sklearn.model_selection import cross_val_score, train_test_split\n",
        "from sklearn.ensemble import BaggingClassifier\n",
        "from sklearn.tree import DecisionTreeClassifier\n",
        "from sklearn.datasets import load_wine"
      ],
      "execution_count": 10,
      "outputs": []
    },
    {
      "cell_type": "code",
      "metadata": {
        "colab": {
          "base_uri": "https://localhost:8080/",
          "height": 224
        },
        "id": "DSUcBy9uKWC-",
        "outputId": "2793d160-3586-4aac-f99b-b02c636c6082"
      },
      "source": [
        "wine_dataset = load_wine()\n",
        "X = pd.DataFrame(wine_dataset.data, columns = wine_dataset.feature_names)\n",
        "y = wine_dataset.target\n",
        "X.head()"
      ],
      "execution_count": 4,
      "outputs": [
        {
          "output_type": "execute_result",
          "data": {
            "text/html": [
              "<div>\n",
              "<style scoped>\n",
              "    .dataframe tbody tr th:only-of-type {\n",
              "        vertical-align: middle;\n",
              "    }\n",
              "\n",
              "    .dataframe tbody tr th {\n",
              "        vertical-align: top;\n",
              "    }\n",
              "\n",
              "    .dataframe thead th {\n",
              "        text-align: right;\n",
              "    }\n",
              "</style>\n",
              "<table border=\"1\" class=\"dataframe\">\n",
              "  <thead>\n",
              "    <tr style=\"text-align: right;\">\n",
              "      <th></th>\n",
              "      <th>alcohol</th>\n",
              "      <th>malic_acid</th>\n",
              "      <th>ash</th>\n",
              "      <th>alcalinity_of_ash</th>\n",
              "      <th>magnesium</th>\n",
              "      <th>total_phenols</th>\n",
              "      <th>flavanoids</th>\n",
              "      <th>nonflavanoid_phenols</th>\n",
              "      <th>proanthocyanins</th>\n",
              "      <th>color_intensity</th>\n",
              "      <th>hue</th>\n",
              "      <th>od280/od315_of_diluted_wines</th>\n",
              "      <th>proline</th>\n",
              "    </tr>\n",
              "  </thead>\n",
              "  <tbody>\n",
              "    <tr>\n",
              "      <th>0</th>\n",
              "      <td>14.23</td>\n",
              "      <td>1.71</td>\n",
              "      <td>2.43</td>\n",
              "      <td>15.6</td>\n",
              "      <td>127.0</td>\n",
              "      <td>2.80</td>\n",
              "      <td>3.06</td>\n",
              "      <td>0.28</td>\n",
              "      <td>2.29</td>\n",
              "      <td>5.64</td>\n",
              "      <td>1.04</td>\n",
              "      <td>3.92</td>\n",
              "      <td>1065.0</td>\n",
              "    </tr>\n",
              "    <tr>\n",
              "      <th>1</th>\n",
              "      <td>13.20</td>\n",
              "      <td>1.78</td>\n",
              "      <td>2.14</td>\n",
              "      <td>11.2</td>\n",
              "      <td>100.0</td>\n",
              "      <td>2.65</td>\n",
              "      <td>2.76</td>\n",
              "      <td>0.26</td>\n",
              "      <td>1.28</td>\n",
              "      <td>4.38</td>\n",
              "      <td>1.05</td>\n",
              "      <td>3.40</td>\n",
              "      <td>1050.0</td>\n",
              "    </tr>\n",
              "    <tr>\n",
              "      <th>2</th>\n",
              "      <td>13.16</td>\n",
              "      <td>2.36</td>\n",
              "      <td>2.67</td>\n",
              "      <td>18.6</td>\n",
              "      <td>101.0</td>\n",
              "      <td>2.80</td>\n",
              "      <td>3.24</td>\n",
              "      <td>0.30</td>\n",
              "      <td>2.81</td>\n",
              "      <td>5.68</td>\n",
              "      <td>1.03</td>\n",
              "      <td>3.17</td>\n",
              "      <td>1185.0</td>\n",
              "    </tr>\n",
              "    <tr>\n",
              "      <th>3</th>\n",
              "      <td>14.37</td>\n",
              "      <td>1.95</td>\n",
              "      <td>2.50</td>\n",
              "      <td>16.8</td>\n",
              "      <td>113.0</td>\n",
              "      <td>3.85</td>\n",
              "      <td>3.49</td>\n",
              "      <td>0.24</td>\n",
              "      <td>2.18</td>\n",
              "      <td>7.80</td>\n",
              "      <td>0.86</td>\n",
              "      <td>3.45</td>\n",
              "      <td>1480.0</td>\n",
              "    </tr>\n",
              "    <tr>\n",
              "      <th>4</th>\n",
              "      <td>13.24</td>\n",
              "      <td>2.59</td>\n",
              "      <td>2.87</td>\n",
              "      <td>21.0</td>\n",
              "      <td>118.0</td>\n",
              "      <td>2.80</td>\n",
              "      <td>2.69</td>\n",
              "      <td>0.39</td>\n",
              "      <td>1.82</td>\n",
              "      <td>4.32</td>\n",
              "      <td>1.04</td>\n",
              "      <td>2.93</td>\n",
              "      <td>735.0</td>\n",
              "    </tr>\n",
              "  </tbody>\n",
              "</table>\n",
              "</div>"
            ],
            "text/plain": [
              "   alcohol  malic_acid   ash  ...   hue  od280/od315_of_diluted_wines  proline\n",
              "0    14.23        1.71  2.43  ...  1.04                          3.92   1065.0\n",
              "1    13.20        1.78  2.14  ...  1.05                          3.40   1050.0\n",
              "2    13.16        2.36  2.67  ...  1.03                          3.17   1185.0\n",
              "3    14.37        1.95  2.50  ...  0.86                          3.45   1480.0\n",
              "4    13.24        2.59  2.87  ...  1.04                          2.93    735.0\n",
              "\n",
              "[5 rows x 13 columns]"
            ]
          },
          "metadata": {},
          "execution_count": 4
        }
      ]
    },
    {
      "cell_type": "code",
      "metadata": {
        "colab": {
          "base_uri": "https://localhost:8080/"
        },
        "id": "zKYd8b25P4Kd",
        "outputId": "7c3a9332-a445-4a80-c4f9-1a59270e1c2b"
      },
      "source": [
        "X.shape"
      ],
      "execution_count": 25,
      "outputs": [
        {
          "output_type": "execute_result",
          "data": {
            "text/plain": [
              "(178, 13)"
            ]
          },
          "metadata": {},
          "execution_count": 25
        }
      ]
    },
    {
      "cell_type": "markdown",
      "metadata": {
        "id": "Ih-zhSNTV1lK"
      },
      "source": [
        "## Balanceo de las clases\n",
        "\n",
        "Se revisa el balanceo de las clases, para ver si existe sesgo"
      ]
    },
    {
      "cell_type": "code",
      "metadata": {
        "colab": {
          "base_uri": "https://localhost:8080/"
        },
        "id": "65w5u47rT9jh",
        "outputId": "b68ca55f-cb26-452c-8543-da5979b88bfd"
      },
      "source": [
        "pd.DataFrame(y, columns=['target']).groupby(by='target').size()"
      ],
      "execution_count": 42,
      "outputs": [
        {
          "output_type": "execute_result",
          "data": {
            "text/plain": [
              "target\n",
              "0    59\n",
              "1    71\n",
              "2    48\n",
              "dtype: int64"
            ]
          },
          "metadata": {},
          "execution_count": 42
        }
      ]
    },
    {
      "cell_type": "markdown",
      "metadata": {
        "id": "8pJYmXBpVxyX"
      },
      "source": [
        "## Separación de la data\n",
        "\n",
        "80% se va a entrenamiento y 20% a prueba"
      ]
    },
    {
      "cell_type": "code",
      "metadata": {
        "id": "U8RvsOPENw8J"
      },
      "source": [
        "X_train, X_test, y_train, y_test = train_test_split(X, y, test_size=0.2, random_state = 0)"
      ],
      "execution_count": 12,
      "outputs": []
    },
    {
      "cell_type": "code",
      "metadata": {
        "colab": {
          "base_uri": "https://localhost:8080/"
        },
        "id": "JJ6m57_6chzx",
        "outputId": "93385057-6aec-4fc6-a04e-0eda5ff5774d"
      },
      "source": [
        "print(\"# observaciones entrenamiento :\", X_train.shape[0])\n",
        "print(\"# observaciones test :\", X_test.shape[0])"
      ],
      "execution_count": 47,
      "outputs": [
        {
          "output_type": "stream",
          "name": "stdout",
          "text": [
            "# observaciones entrenamiento : 142\n",
            "# observaciones test : 36\n"
          ]
        }
      ]
    },
    {
      "cell_type": "code",
      "metadata": {
        "colab": {
          "base_uri": "https://localhost:8080/"
        },
        "id": "fA-sTX17KYvG",
        "outputId": "122d3929-1125-419e-b93a-ca2473632923"
      },
      "source": [
        "x_modelo = DecisionTreeClassifier(max_depth = 3, random_state = 0, criterion='entropy')\n",
        "cross_val_score(x_modelo, X_train, y_train, cv = 10).mean()"
      ],
      "execution_count": 63,
      "outputs": [
        {
          "output_type": "execute_result",
          "data": {
            "text/plain": [
              "0.9085714285714287"
            ]
          },
          "metadata": {},
          "execution_count": 63
        }
      ]
    },
    {
      "cell_type": "code",
      "metadata": {
        "colab": {
          "base_uri": "https://localhost:8080/"
        },
        "id": "mmfPcEj3lftb",
        "outputId": "52e00b64-a597-4289-f791-f482b8137524"
      },
      "source": [
        "x_modelo.fit(X_train, y_train)"
      ],
      "execution_count": 64,
      "outputs": [
        {
          "output_type": "execute_result",
          "data": {
            "text/plain": [
              "DecisionTreeClassifier(ccp_alpha=0.0, class_weight=None, criterion='entropy',\n",
              "                       max_depth=3, max_features=None, max_leaf_nodes=None,\n",
              "                       min_impurity_decrease=0.0, min_impurity_split=None,\n",
              "                       min_samples_leaf=1, min_samples_split=2,\n",
              "                       min_weight_fraction_leaf=0.0, presort='deprecated',\n",
              "                       random_state=0, splitter='best')"
            ]
          },
          "metadata": {},
          "execution_count": 64
        }
      ]
    },
    {
      "cell_type": "code",
      "metadata": {
        "colab": {
          "base_uri": "https://localhost:8080/",
          "height": 1000
        },
        "id": "qy7LQuPhc_ws",
        "outputId": "40af695c-9a1e-4f20-f942-bf298f00ed58"
      },
      "source": [
        "import matplotlib.pyplot as plt\n",
        "from sklearn import tree\n",
        "plt.subplots(1,1,figsize=(20,20))\n",
        "_= tree.plot_tree(x_modelo) "
      ],
      "execution_count": 65,
      "outputs": [
        {
          "output_type": "display_data",
          "data": {
            "image/png": "[encoded data removed]",
            "text/plain": [
              "<Figure size 1440x1440 with 1 Axes>"
            ]
          },
          "metadata": {
            "needs_background": "light"
          }
        }
      ]
    },
    {
      "cell_type": "markdown",
      "metadata": {
        "id": "2sUquXhmn0DK"
      },
      "source": [
        "## Predicciones"
      ]
    },
    {
      "cell_type": "code",
      "metadata": {
        "colab": {
          "base_uri": "https://localhost:8080/"
        },
        "id": "LjPxtqi3n1qX",
        "outputId": "7be05ae3-1dd3-40a6-8335-04891585ff97"
      },
      "source": [
        "y_pred = x_modelo.predict(X_test)\n",
        "y_pred"
      ],
      "execution_count": 66,
      "outputs": [
        {
          "output_type": "execute_result",
          "data": {
            "text/plain": [
              "array([0, 2, 1, 0, 1, 1, 0, 2, 1, 1, 2, 2, 0, 1, 2, 1, 0, 0, 2, 0, 1, 0,\n",
              "       1, 1, 1, 1, 1, 1, 1, 2, 0, 0, 1, 0, 0, 0])"
            ]
          },
          "metadata": {},
          "execution_count": 66
        }
      ]
    },
    {
      "cell_type": "markdown",
      "metadata": {
        "id": "6c6L-qaqnQX7"
      },
      "source": [
        "## Resultados de la clasificación"
      ]
    },
    {
      "cell_type": "code",
      "metadata": {
        "colab": {
          "base_uri": "https://localhost:8080/"
        },
        "id": "zI3tjSvRnPye",
        "outputId": "b3a9828f-ed59-4d67-e3e0-7dd8fa561198"
      },
      "source": [
        "from sklearn.metrics import classification_report\n",
        "from sklearn.metrics import confusion_matrix\n",
        "\n",
        "print(confusion_matrix(y_test, y_pred))\n",
        "print(classification_report(y_test, y_pred))"
      ],
      "execution_count": 67,
      "outputs": [
        {
          "output_type": "stream",
          "name": "stdout",
          "text": [
            "[[13  1  0]\n",
            " [ 0 15  1]\n",
            " [ 0  0  6]]\n",
            "              precision    recall  f1-score   support\n",
            "\n",
            "           0       1.00      0.93      0.96        14\n",
            "           1       0.94      0.94      0.94        16\n",
            "           2       0.86      1.00      0.92         6\n",
            "\n",
            "    accuracy                           0.94        36\n",
            "   macro avg       0.93      0.96      0.94        36\n",
            "weighted avg       0.95      0.94      0.94        36\n",
            "\n"
          ]
        }
      ]
    },
    {
      "cell_type": "markdown",
      "metadata": {
        "id": "TXu01cp4WNj3"
      },
      "source": [
        "## Aplicación de BaggingClassifier"
      ]
    },
    {
      "cell_type": "markdown",
      "metadata": {
        "id": "3dtkbWvVKpL3"
      },
      "source": [
        "Se crea el clasificador bagging indicando el algoritmo en el que se basa y el número de éstos a considerar, y se estima la exactitud del mismo:"
      ]
    },
    {
      "cell_type": "code",
      "metadata": {
        "colab": {
          "base_uri": "https://localhost:8080/"
        },
        "id": "aR29TO-_KeLl",
        "outputId": "399df700-7acc-4e25-ef0c-73c8b6daef00"
      },
      "source": [
        "modelo = BaggingClassifier(\n",
        "    DecisionTreeClassifier(max_depth = 3, criterion='entropy'),\n",
        "    n_estimators = 100,\n",
        "    random_state = 0\n",
        ")\n",
        "cross_val_score(modelo, X_train, y_train, cv = 10).mean()"
      ],
      "execution_count": 68,
      "outputs": [
        {
          "output_type": "execute_result",
          "data": {
            "text/plain": [
              "0.9580952380952381"
            ]
          },
          "metadata": {},
          "execution_count": 68
        }
      ]
    },
    {
      "cell_type": "markdown",
      "metadata": {
        "id": "724d6uOcKj0-"
      },
      "source": [
        "## Mejorando el resultado ...\n",
        "\n",
        "Este resultado puede ser mejorado haciendo uso de los parámetros ofrecidos por la clase DecisionTreeClassifier, por ejemplo, max_samples y max_features, que controlan el porcentaje de muestras y de características a considerar en cada uno de los aprendices a entrenar, respectivamente:"
      ]
    },
    {
      "cell_type": "code",
      "metadata": {
        "colab": {
          "base_uri": "https://localhost:8080/"
        },
        "id": "XTQywblzKhau",
        "outputId": "c756ffbf-4c82-4732-853d-1117cba4c804"
      },
      "source": [
        "modelo = BaggingClassifier(\n",
        "    DecisionTreeClassifier(max_depth = 3, criterion='entropy'),\n",
        "    n_estimators = 100,\n",
        "    random_state = 0,\n",
        "    max_samples = 0.7,\n",
        "    max_features = 0.3\n",
        ")\n",
        "cross_val_score(modelo, X_train, y_train, cv = 10).mean()"
      ],
      "execution_count": 69,
      "outputs": [
        {
          "output_type": "execute_result",
          "data": {
            "text/plain": [
              "0.9861904761904763"
            ]
          },
          "metadata": {},
          "execution_count": 69
        }
      ]
    },
    {
      "cell_type": "markdown",
      "metadata": {
        "id": "glRSJtnPWZJs"
      },
      "source": [
        "## Entrenamiento\n",
        "\n",
        "Se entrena para luego realizar las predicciones"
      ]
    },
    {
      "cell_type": "code",
      "metadata": {
        "colab": {
          "base_uri": "https://localhost:8080/"
        },
        "id": "JHZhigDrOaCM",
        "outputId": "42f7f950-6aa9-4394-ea54-8c0dfea0c5b9"
      },
      "source": [
        "modelo.fit(X_train, y_train)"
      ],
      "execution_count": 70,
      "outputs": [
        {
          "output_type": "execute_result",
          "data": {
            "text/plain": [
              "BaggingClassifier(base_estimator=DecisionTreeClassifier(ccp_alpha=0.0,\n",
              "                                                        class_weight=None,\n",
              "                                                        criterion='entropy',\n",
              "                                                        max_depth=3,\n",
              "                                                        max_features=None,\n",
              "                                                        max_leaf_nodes=None,\n",
              "                                                        min_impurity_decrease=0.0,\n",
              "                                                        min_impurity_split=None,\n",
              "                                                        min_samples_leaf=1,\n",
              "                                                        min_samples_split=2,\n",
              "                                                        min_weight_fraction_leaf=0.0,\n",
              "                                                        presort='deprecated',\n",
              "                                                        random_state=None,\n",
              "                                                        splitter='best'),\n",
              "                  bootstrap=True, bootstrap_features=False, max_features=0.3,\n",
              "                  max_samples=0.7, n_estimators=100, n_jobs=None,\n",
              "                  oob_score=False, random_state=0, verbose=0, warm_start=False)"
            ]
          },
          "metadata": {},
          "execution_count": 70
        }
      ]
    },
    {
      "cell_type": "markdown",
      "metadata": {
        "id": "o98RXPEeWfnH"
      },
      "source": [
        "## Predicciones\n",
        "\n",
        "Con el modelo entrenado se procede a predecir, usando la data de prueba"
      ]
    },
    {
      "cell_type": "code",
      "metadata": {
        "colab": {
          "base_uri": "https://localhost:8080/"
        },
        "id": "FY16PLnTOqbT",
        "outputId": "1d8c2bca-5f9a-48fa-8435-e707a25c5612"
      },
      "source": [
        "y_pred = modelo.predict(X_test)\n",
        "y_pred"
      ],
      "execution_count": 71,
      "outputs": [
        {
          "output_type": "execute_result",
          "data": {
            "text/plain": [
              "array([0, 2, 1, 0, 1, 0, 0, 2, 1, 1, 2, 2, 0, 1, 2, 1, 0, 0, 1, 0, 0, 0,\n",
              "       0, 1, 1, 1, 1, 1, 1, 2, 0, 0, 1, 0, 0, 0])"
            ]
          },
          "metadata": {},
          "execution_count": 71
        }
      ]
    },
    {
      "cell_type": "markdown",
      "metadata": {
        "id": "_o5gvgNgWoLc"
      },
      "source": [
        "## Evaluación del modelo"
      ]
    },
    {
      "cell_type": "code",
      "metadata": {
        "colab": {
          "base_uri": "https://localhost:8080/"
        },
        "id": "oKbzy5IhO--s",
        "outputId": "90cc7139-e202-4a57-efa6-064df331e443"
      },
      "source": [
        "modelo.score(X_test, y_test)"
      ],
      "execution_count": 72,
      "outputs": [
        {
          "output_type": "execute_result",
          "data": {
            "text/plain": [
              "0.9444444444444444"
            ]
          },
          "metadata": {},
          "execution_count": 72
        }
      ]
    },
    {
      "cell_type": "markdown",
      "metadata": {
        "id": "1biVwVh5Wq8T"
      },
      "source": [
        "## Resultados de la clasificación"
      ]
    },
    {
      "cell_type": "code",
      "metadata": {
        "colab": {
          "base_uri": "https://localhost:8080/"
        },
        "id": "gbF_xYg0QPfK",
        "outputId": "5dd8cbd3-bf6d-4e72-a326-5cfea192103f"
      },
      "source": [
        "from sklearn.metrics import classification_report\n",
        "from sklearn.metrics import confusion_matrix\n",
        "\n",
        "print(confusion_matrix(y_test, y_pred))\n",
        "print(classification_report(y_test, y_pred))"
      ],
      "execution_count": 73,
      "outputs": [
        {
          "output_type": "stream",
          "name": "stdout",
          "text": [
            "[[14  0  0]\n",
            " [ 2 14  0]\n",
            " [ 0  0  6]]\n",
            "              precision    recall  f1-score   support\n",
            "\n",
            "           0       0.88      1.00      0.93        14\n",
            "           1       1.00      0.88      0.93        16\n",
            "           2       1.00      1.00      1.00         6\n",
            "\n",
            "    accuracy                           0.94        36\n",
            "   macro avg       0.96      0.96      0.96        36\n",
            "weighted avg       0.95      0.94      0.94        36\n",
            "\n"
          ]
        }
      ]
    },
    {
      "cell_type": "markdown",
      "metadata": {
        "id": "qIMaB72rRtWx"
      },
      "source": [
        "\n",
        "\n",
        "### Observación importante\n",
        "\n",
        "La métrica accuracy (exactitud) no funciona bien cuando las clases están desbalanceadas. "
      ]
    },
    {
      "cell_type": "markdown",
      "metadata": {
        "id": "TihMot7S7Aal"
      },
      "source": [
        "## Bonus track\n",
        "\n",
        "Además del Bagging existe el concepto de boosting: se trata de una una familia de \"meta-algoritmos\" de ensamblado de aprendices capaces de convertir un conjunto de aprendices débiles en un aprendiz fuerte.\n",
        "\n",
        "Normalmente suponen el entrenamiento de aprendices débiles de forma recursiva: cada vez que se entrena uno, se añade al modelo final, asignándose un peso a cada uno de los aprendices entrenados en función de su eficiencia. Además, los datos analizados reciben también un peso: cada vez que se entrena un aprendiz, los pesos de los datos se modifican de forma que aquellos que han recibido una predicción menos correcta ven aumentada su importancia relativa. De esta forma el siguiente aprendiz puede concentrarse en ellos con el objeto de minimizar el error global.\n",
        "\n",
        "Hay muchos algoritmos de boosting. El históricamente más conocido es ***AdaBoost***, sin embargo, además existen otros tales como: XGBoost y LightGBM, por poner un par de ejemplos. Estos algoritmos pertenecen a la familia de algoritmos ***Gradient Boosting***."
      ]
    }
  ]
}